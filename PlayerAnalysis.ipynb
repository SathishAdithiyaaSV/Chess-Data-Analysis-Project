{
 "cells": [
  {
   "cell_type": "code",
   "execution_count": 9,
   "metadata": {},
   "outputs": [],
   "source": [
    "import requests\n",
    "from bs4 import BeautifulSoup\n",
    "import pandas as pd\n"
   ]
  },
  {
   "cell_type": "code",
   "execution_count": 13,
   "metadata": {},
   "outputs": [
    {
     "name": "stdout",
     "output_type": "stream",
     "text": [
      "       Period  RTNG  GMS  RAPID RTNG  RAPID GMS  BLITZ RTNG  BLITZ GMS\n",
      "0    2024-Apr  2830    0      2823.0        0.0      2886.0        0.0\n",
      "1    2024-Mar  2830    0      2823.0        0.0      2886.0        0.0\n",
      "2    2024-Feb  2830    0      2823.0        0.0      2886.0        0.0\n",
      "3    2024-Jan  2830    0      2823.0       43.0      2886.0       21.0\n",
      "4    2023-Dec  2830    8      2818.0        0.0      2887.0        0.0\n",
      "..        ...   ...  ...         ...        ...         ...        ...\n",
      "188  2002-Apr  2163   14         0.0        0.0         0.0        0.0\n",
      "189  2002-Jan  2127   12         0.0        0.0         0.0        0.0\n",
      "190  2001-Oct  2072   19         0.0        0.0         0.0        0.0\n",
      "191  2001-Jul  2084   11         0.0        0.0         0.0        0.0\n",
      "192  2001-Apr  2064   15         0.0        0.0         0.0        0.0\n",
      "\n",
      "[193 rows x 7 columns]\n"
     ]
    }
   ],
   "source": [
    "url = 'https://ratings.fide.com/profile/1503014/chart'  # Replace with your target URL\n",
    "response = requests.get(url)\n",
    "soup = BeautifulSoup(response.content, 'html.parser')\n",
    "table=soup.find('table', class_ = \"profile-table profile-table_chart-table\")\n",
    "#<table class=\"profile-table profile-table_chart-table\">\n",
    "from io import StringIO\n",
    "df = pd.read_html(StringIO(str(table)))[0]\n",
    "df = df.fillna(0)\n",
    "print(df)"
   ]
  }
 ],
 "metadata": {
  "kernelspec": {
   "display_name": "Python 3",
   "language": "python",
   "name": "python3"
  },
  "language_info": {
   "codemirror_mode": {
    "name": "ipython",
    "version": 3
   },
   "file_extension": ".py",
   "mimetype": "text/x-python",
   "name": "python",
   "nbconvert_exporter": "python",
   "pygments_lexer": "ipython3",
   "version": "3.12.2"
  }
 },
 "nbformat": 4,
 "nbformat_minor": 2
}
